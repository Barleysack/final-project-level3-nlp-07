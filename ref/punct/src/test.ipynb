{
 "cells": [
  {
   "cell_type": "code",
   "execution_count": 1,
   "metadata": {},
   "outputs": [],
   "source": [
    "from transformers import AutoModel, AutoTokenizer"
   ]
  },
  {
   "cell_type": "code",
   "execution_count": 27,
   "metadata": {},
   "outputs": [
    {
     "name": "stderr",
     "output_type": "stream",
     "text": [
      "Some weights of the model checkpoint at klue/roberta-small were not used when initializing RobertaModel: ['lm_head.decoder.bias', 'lm_head.bias', 'lm_head.layer_norm.weight', 'lm_head.decoder.weight', 'lm_head.layer_norm.bias', 'lm_head.dense.bias', 'lm_head.dense.weight']\n",
      "- This IS expected if you are initializing RobertaModel from the checkpoint of a model trained on another task or with another architecture (e.g. initializing a BertForSequenceClassification model from a BertForPreTraining model).\n",
      "- This IS NOT expected if you are initializing RobertaModel from the checkpoint of a model that you expect to be exactly identical (initializing a BertForSequenceClassification model from a BertForSequenceClassification model).\n",
      "Some weights of RobertaModel were not initialized from the model checkpoint at klue/roberta-small and are newly initialized: ['roberta.pooler.dense.weight', 'roberta.pooler.dense.bias']\n",
      "You should probably TRAIN this model on a down-stream task to be able to use it for predictions and inference.\n"
     ]
    },
    {
     "data": {
      "application/vnd.jupyter.widget-view+json": {
       "model_id": "74df1924470042478e1ed22c69361e27",
       "version_major": 2,
       "version_minor": 0
      },
      "text/plain": [
       "Downloading:   0%|          | 0.00/243k [00:00<?, ?B/s]"
      ]
     },
     "metadata": {},
     "output_type": "display_data"
    },
    {
     "data": {
      "application/vnd.jupyter.widget-view+json": {
       "model_id": "dae585c8b5084bc9b0e38e93cb63151a",
       "version_major": 2,
       "version_minor": 0
      },
      "text/plain": [
       "Downloading:   0%|          | 0.00/734k [00:00<?, ?B/s]"
      ]
     },
     "metadata": {},
     "output_type": "display_data"
    },
    {
     "data": {
      "application/vnd.jupyter.widget-view+json": {
       "model_id": "1b68ecfce8d840f6a5cedc91ca1c8967",
       "version_major": 2,
       "version_minor": 0
      },
      "text/plain": [
       "Downloading:   0%|          | 0.00/173 [00:00<?, ?B/s]"
      ]
     },
     "metadata": {},
     "output_type": "display_data"
    }
   ],
   "source": [
    "model_path = \"klue/roberta-small\"\n",
    "model = AutoModel.from_pretrained(model_path)\n",
    "tokenizer = AutoTokenizer.from_pretrained(model_path)"
   ]
  },
  {
   "cell_type": "code",
   "execution_count": 28,
   "metadata": {},
   "outputs": [
    {
     "name": "stdout",
     "output_type": "stream",
     "text": [
      "{'bos_token': '[CLS]', 'eos_token': '[SEP]', 'unk_token': '[UNK]', 'sep_token': '[SEP]', 'pad_token': '[PAD]', 'cls_token': '[CLS]', 'mask_token': '[MASK]'}\n",
      "[0, 2, 3, 2, 1, 0, 4]\n"
     ]
    }
   ],
   "source": [
    "print(tokenizer.special_tokens_map)\n",
    "print([tokenizer.encode(tok)[1] for tok in tokenizer.special_tokens_map.values()])"
   ]
  },
  {
   "cell_type": "code",
   "execution_count": null,
   "metadata": {},
   "outputs": [],
   "source": [
    "'bert': {\n",
    "        'START_SEQ': 101,\n",
    "        'PAD': 0,\n",
    "        'END_SEQ': 102,\n",
    "        'UNK': 100\n",
    "    },\n",
    "    'xlm': {\n",
    "        'START_SEQ': 0,\n",
    "        'PAD': 2,\n",
    "        'END_SEQ': 1,\n",
    "        'UNK': 3\n",
    "    },\n",
    "    'roberta': {\n",
    "        'START_SEQ': 0, == bos_token\n",
    "        'PAD': 1, == pad_token\n",
    "        'END_SEQ': 2, == eos_token\n",
    "        'UNK': 3 == unk_token\n",
    "    },\n",
    "    'albert': {\n",
    "        'START_SEQ': 2,\n",
    "        'PAD': 0,\n",
    "        'END_SEQ': 3,\n",
    "        'UNK': 1\n",
    "    },"
   ]
  },
  {
   "cell_type": "code",
   "execution_count": 45,
   "metadata": {},
   "outputs": [
    {
     "data": {
      "text/plain": [
       "('지금 난 기분이 너무 좋아.', 437166)"
      ]
     },
     "execution_count": 45,
     "metadata": {},
     "output_type": "execute_result"
    }
   ],
   "source": [
    "import json\n",
    "\n",
    "with open(\"/opt/ml/감성대화/Training/감성대화말뭉치(원천데이터)_Training/감성대화말뭉치(원시데이터)_Training.json\", \"r\") as f:\n",
    "    file = json.load(f)\n",
    "\n",
    "sents_only = []\n",
    "for idx in range(len(file)):\n",
    "    sents_only.extend(file[idx]['talk']['content'].values())\n",
    "sents_only[0], len(sents_only)"
   ]
  },
  {
   "cell_type": "code",
   "execution_count": 47,
   "metadata": {},
   "outputs": [
    {
     "data": {
      "application/vnd.jupyter.widget-view+json": {
       "model_id": "7b1d8657b2a44f5ca5382362187ead4e",
       "version_major": 2,
       "version_minor": 0
      },
      "text/plain": [
       "0it [00:00, ?it/s]"
      ]
     },
     "metadata": {},
     "output_type": "display_data"
    }
   ],
   "source": [
    "import re\n",
    "from tqdm.auto import tqdm\n",
    "\n",
    "for idx, sent in tqdm(enumerate(sents_only)):\n",
    "    sents_only[idx] = sent.replace(\"!\", \".\")\n",
    "    sents_only[idx] = re.sub(\"[^ㄱ-ㅎ가-힣a-zA-Z\\.\\?\\, ]\", \" \", sent)"
   ]
  },
  {
   "cell_type": "code",
   "execution_count": 48,
   "metadata": {},
   "outputs": [
    {
     "data": {
      "text/plain": [
       "'여자친구랑 함께하면 마음이 편안하고 안도감이 들어.'"
      ]
     },
     "execution_count": 48,
     "metadata": {},
     "output_type": "execute_result"
    }
   ],
   "source": [
    "sents_only[100]"
   ]
  },
  {
   "cell_type": "code",
   "execution_count": 52,
   "metadata": {},
   "outputs": [
    {
     "data": {
      "application/vnd.jupyter.widget-view+json": {
       "model_id": "090c3a5383574ba89f32b3f8971aff2a",
       "version_major": 2,
       "version_minor": 0
      },
      "text/plain": [
       "  0%|          | 0/437166 [00:00<?, ?it/s]"
      ]
     },
     "metadata": {},
     "output_type": "display_data"
    },
    {
     "data": {
      "application/vnd.jupyter.widget-view+json": {
       "model_id": "10a1688d5d284bb3b7c497c80b3d14f3",
       "version_major": 2,
       "version_minor": 0
      },
      "text/plain": [
       "0it [00:00, ?it/s]"
      ]
     },
     "metadata": {},
     "output_type": "display_data"
    },
    {
     "data": {
      "application/vnd.jupyter.widget-view+json": {
       "model_id": "2fab74d97b684d849476d8dc5817cf3c",
       "version_major": 2,
       "version_minor": 0
      },
      "text/plain": [
       "  0%|          | 0/54864 [00:00<?, ?it/s]"
      ]
     },
     "metadata": {},
     "output_type": "display_data"
    }
   ],
   "source": [
    "for sent in tqdm(sents_only):\n",
    "    sent_list = sent.split()\n",
    "    for word in sent_list:\n",
    "        if word == \"\":\n",
    "            continue\n",
    "        elif \".\" in word:\n",
    "            punc = \"PERIOD\"\n",
    "            word = word.replace(\".\", \"\")\n",
    "        elif \"?\" in word:\n",
    "            punc = \"QUESTION\"\n",
    "            word = word.replace(\"?\", \"\")\n",
    "        elif \",\" in word:\n",
    "            punc = \"COMMA\"\n",
    "            word = word.replace(\",\", \"\")\n",
    "        else:\n",
    "            punc = \"O\"\n",
    "        with open(\"/opt/ml/train_dataset.txt\", \"a\") as f:\n",
    "            f.write(word + \"\\t\" + punc + \"\\n\")\n",
    "            \n",
    "### dev set\n",
    "with open(\"/opt/ml/감성대화/Validation/감성대화말뭉치(원천데이터)_Validation/감성대화말뭉치(원시데이터)_Validation.json\", \"r\") as f:\n",
    "    file = json.load(f)\n",
    "\n",
    "dev_sents_only = []\n",
    "for idx in range(len(file)):\n",
    "    dev_sents_only.extend(file[idx]['talk']['content'].values())\n",
    "    \n",
    "for idx, sent in tqdm(enumerate(dev_sents_only)):\n",
    "    sents_only[idx] = sent.replace(\"!\", \".\")\n",
    "    sents_only[idx] = re.sub(\"[^ㄱ-ㅎ가-힣a-zA-Z\\.\\?\\, ]\", \" \", sent)\n",
    "    \n",
    "for sent in tqdm(dev_sents_only):\n",
    "    sent_list = sent.split()\n",
    "    for word in sent_list:\n",
    "        if word == \"\":\n",
    "            continue\n",
    "        elif \".\" in word:\n",
    "            punc = \"PERIOD\"\n",
    "            word = word.replace(\".\", \"\")\n",
    "        elif \"?\" in word:\n",
    "            punc = \"QUESTION\"\n",
    "            word = word.replace(\"?\", \"\")\n",
    "        elif \",\" in word:\n",
    "            punc = \"COMMA\"\n",
    "            word = word.replace(\",\", \"\")\n",
    "        else:\n",
    "            punc = \"O\"\n",
    "        with open(\"/opt/ml/validation_dataset.txt\", \"a\") as f:\n",
    "            f.write(word + \"\\t\" + punc + \"\\n\")"
   ]
  },
  {
   "cell_type": "code",
   "execution_count": 59,
   "metadata": {},
   "outputs": [],
   "source": [
    "new_sents = dev_sents_only[:50]\n",
    "for idx, sent in enumerate(new_sents):\n",
    "    new_sents[idx] = re.sub(\"[\\.\\,\\?\\!]\", \"\", sent)\n",
    "new_sents=[i for i in new_sents if i]\n",
    "new_txt = ' '.join(new_sents)\n",
    "new_txt\n",
    "with open(\"/opt/ml/punctuation-restoration/data/test_en.txt\", \"w\") as f:\n",
    "    f.write(new_txt)"
   ]
  },
  {
   "cell_type": "code",
   "execution_count": 35,
   "metadata": {},
   "outputs": [],
   "source": [
    "import re\n",
    "txts = list(df['text'])"
   ]
  },
  {
   "cell_type": "code",
   "execution_count": null,
   "metadata": {},
   "outputs": [],
   "source": [
    "import re\n",
    "\n",
    "for idx, txt in enumerate(txts):\n",
    "        txt_lst = txt.split()\n",
    "        new_lst = []\n",
    "        for t in txt_lst:\n",
    "            if \"+\" in t:\n",
    "                continue\n",
    "            "
   ]
  },
  {
   "cell_type": "code",
   "execution_count": null,
   "metadata": {},
   "outputs": [],
   "source": [
    "with open(\"/opt/ml/kor_data\", \"w\") as f:\n",
    "    for "
   ]
  }
 ],
 "metadata": {
  "interpreter": {
   "hash": "e31c68abf1d5dd3f9e2269f23eadf1b199587e56c0618a30760176a65ebfcab4"
  },
  "kernelspec": {
   "display_name": "Python 3.7.11 64-bit ('lightweight': conda)",
   "language": "python",
   "name": "python3"
  },
  "language_info": {
   "codemirror_mode": {
    "name": "ipython",
    "version": 3
   },
   "file_extension": ".py",
   "mimetype": "text/x-python",
   "name": "python",
   "nbconvert_exporter": "python",
   "pygments_lexer": "ipython3",
   "version": "3.7.11"
  },
  "orig_nbformat": 4
 },
 "nbformat": 4,
 "nbformat_minor": 2
}
